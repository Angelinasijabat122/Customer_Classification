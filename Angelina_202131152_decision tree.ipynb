{
 "cells": [
  {
   "cell_type": "markdown",
   "id": "78c33184",
   "metadata": {},
   "source": [
    "Angelina 202131152\n",
    "\n",
    "UTS Pemrograman mesin (A)"
   ]
  },
  {
   "cell_type": "code",
   "execution_count": 1,
   "id": "60c9e915",
   "metadata": {},
   "outputs": [],
   "source": [
    "import numpy as np\n",
    "import pandas as pd\n",
    "import matplotlib.pyplot as plt"
   ]
  },
  {
   "cell_type": "markdown",
   "id": "ba99de5c",
   "metadata": {},
   "source": [
    "Data yang akan dibaca"
   ]
  },
  {
   "cell_type": "code",
   "execution_count": 2,
   "id": "812e8b3b",
   "metadata": {},
   "outputs": [
    {
     "data": {
      "text/html": [
       "<div>\n",
       "<style scoped>\n",
       "    .dataframe tbody tr th:only-of-type {\n",
       "        vertical-align: middle;\n",
       "    }\n",
       "\n",
       "    .dataframe tbody tr th {\n",
       "        vertical-align: top;\n",
       "    }\n",
       "\n",
       "    .dataframe thead th {\n",
       "        text-align: right;\n",
       "    }\n",
       "</style>\n",
       "<table border=\"1\" class=\"dataframe\">\n",
       "  <thead>\n",
       "    <tr style=\"text-align: right;\">\n",
       "      <th></th>\n",
       "      <th>Penghasilan</th>\n",
       "      <th>Status Rumah</th>\n",
       "      <th>Besar Pinjam</th>\n",
       "      <th>Besar Kredit</th>\n",
       "      <th>Lama Pinjam,,</th>\n",
       "    </tr>\n",
       "  </thead>\n",
       "  <tbody>\n",
       "    <tr>\n",
       "      <th>0</th>\n",
       "      <td>2,5jt</td>\n",
       "      <td>Sendiri</td>\n",
       "      <td>7,5jt</td>\n",
       "      <td>782000</td>\n",
       "      <td>12</td>\n",
       "    </tr>\n",
       "    <tr>\n",
       "      <th>1</th>\n",
       "      <td>3,5jt</td>\n",
       "      <td>Sewa</td>\n",
       "      <td>5jt</td>\n",
       "      <td>520000</td>\n",
       "      <td>12,</td>\n",
       "    </tr>\n",
       "    <tr>\n",
       "      <th>2</th>\n",
       "      <td>3,5jt</td>\n",
       "      <td>Sewa</td>\n",
       "      <td>15jt</td>\n",
       "      <td>937500</td>\n",
       "      <td>24,</td>\n",
       "    </tr>\n",
       "    <tr>\n",
       "      <th>3</th>\n",
       "      <td>2,5jt</td>\n",
       "      <td>Sendiri</td>\n",
       "      <td>7,5jt</td>\n",
       "      <td>782000</td>\n",
       "      <td>12</td>\n",
       "    </tr>\n",
       "    <tr>\n",
       "      <th>4</th>\n",
       "      <td>1,75jt</td>\n",
       "      <td>Sendiri</td>\n",
       "      <td>5jt</td>\n",
       "      <td>520000</td>\n",
       "      <td>12,</td>\n",
       "    </tr>\n",
       "    <tr>\n",
       "      <th>5</th>\n",
       "      <td>3,5jt</td>\n",
       "      <td>Sewa</td>\n",
       "      <td>10jt</td>\n",
       "      <td>763900</td>\n",
       "      <td>18,</td>\n",
       "    </tr>\n",
       "    <tr>\n",
       "      <th>6</th>\n",
       "      <td>1,75jt</td>\n",
       "      <td>Sendiri</td>\n",
       "      <td>7,5jt</td>\n",
       "      <td>782000</td>\n",
       "      <td>6</td>\n",
       "    </tr>\n",
       "    <tr>\n",
       "      <th>7</th>\n",
       "      <td>2,5jt</td>\n",
       "      <td>Sewa</td>\n",
       "      <td>5jt</td>\n",
       "      <td>937500</td>\n",
       "      <td>6,</td>\n",
       "    </tr>\n",
       "    <tr>\n",
       "      <th>8</th>\n",
       "      <td>5jt</td>\n",
       "      <td>Sendiri</td>\n",
       "      <td>15jt</td>\n",
       "      <td>937500</td>\n",
       "      <td>24,,</td>\n",
       "    </tr>\n",
       "    <tr>\n",
       "      <th>9</th>\n",
       "      <td>5jt</td>\n",
       "      <td>Sewa</td>\n",
       "      <td>10jt</td>\n",
       "      <td>763900</td>\n",
       "      <td>18,,</td>\n",
       "    </tr>\n",
       "  </tbody>\n",
       "</table>\n",
       "</div>"
      ],
      "text/plain": [
       "  Penghasilan Status Rumah Besar Pinjam  Besar Kredit Lama Pinjam,,\n",
       "0       2,5jt      Sendiri        7,5jt        782000            12\n",
       "1       3,5jt         Sewa          5jt        520000           12,\n",
       "2       3,5jt         Sewa         15jt        937500           24,\n",
       "3       2,5jt      Sendiri        7,5jt        782000            12\n",
       "4      1,75jt      Sendiri          5jt        520000           12,\n",
       "5       3,5jt         Sewa         10jt        763900           18,\n",
       "6      1,75jt      Sendiri        7,5jt        782000             6\n",
       "7       2,5jt         Sewa          5jt        937500            6,\n",
       "8         5jt      Sendiri         15jt        937500          24,,\n",
       "9         5jt         Sewa         10jt        763900          18,,"
      ]
     },
     "execution_count": 2,
     "metadata": {},
     "output_type": "execute_result"
    }
   ],
   "source": [
    "data = pd.read_csv('Data Calon Nasabah.csv',delimiter=\";\")\n",
    "data"
   ]
  },
  {
   "cell_type": "markdown",
   "id": "431b29ec",
   "metadata": {},
   "source": [
    "Membuat data frame dari data calon nasabah"
   ]
  },
  {
   "cell_type": "code",
   "execution_count": 3,
   "id": "96272406",
   "metadata": {},
   "outputs": [
    {
     "name": "stdout",
     "output_type": "stream",
     "text": [
      "<class 'pandas.core.frame.DataFrame'>\n",
      "RangeIndex: 10 entries, 0 to 9\n",
      "Data columns (total 5 columns):\n",
      " #   Column         Non-Null Count  Dtype \n",
      "---  ------         --------------  ----- \n",
      " 0   Penghasilan    10 non-null     object\n",
      " 1   Status Rumah   10 non-null     object\n",
      " 2   Besar Pinjam   10 non-null     object\n",
      " 3   Besar Kredit   10 non-null     int64 \n",
      " 4   Lama Pinjam,,  10 non-null     object\n",
      "dtypes: int64(1), object(4)\n",
      "memory usage: 528.0+ bytes\n"
     ]
    }
   ],
   "source": [
    "data.info()"
   ]
  },
  {
   "cell_type": "code",
   "execution_count": 4,
   "id": "cafb9d02",
   "metadata": {},
   "outputs": [
    {
     "data": {
      "text/plain": [
       "array(['2,5jt', '3,5jt', '1,75jt', '5jt'], dtype=object)"
      ]
     },
     "execution_count": 4,
     "metadata": {},
     "output_type": "execute_result"
    }
   ],
   "source": [
    "data['Penghasilan'].unique()"
   ]
  },
  {
   "cell_type": "code",
   "execution_count": 5,
   "id": "603c131e",
   "metadata": {},
   "outputs": [
    {
     "name": "stdout",
     "output_type": "stream",
     "text": [
      "['2,5jt' '3,5jt' '1,75jt' '5jt']\n",
      "['Sendiri' 'Sewa']\n",
      "['7,5jt' '5jt' '15jt' '10jt']\n",
      "[782000 520000 937500 763900]\n",
      "['12' '12,' '24,' '18,' '6' '6,' '24,,' '18,,']\n"
     ]
    }
   ],
   "source": [
    "DataBaru = ['Penghasilan','Status Rumah','Besar Pinjam','Besar Kredit','Lama Pinjam,,']\n",
    "for i in DataBaru:\n",
    "    print(data[i].unique())"
   ]
  },
  {
   "cell_type": "code",
   "execution_count": 6,
   "id": "e8a2849e",
   "metadata": {},
   "outputs": [],
   "source": [
    "Penghasilan_map = ({\n",
    "    '2,5jt':1,\n",
    "    '3,5jt':2,\n",
    "    '1,75jt':3,\n",
    "    '5jt':4\n",
    "})\n",
    "StatusRumah_map = ({\n",
    "    'Sendiri':1,\n",
    "    'Sewa':2,\n",
    "})\n",
    "BesarPinjam_map = ({\n",
    "    '7,5jt':1,\n",
    "    '5jt':2,\n",
    "    '15jt':3,\n",
    "    '10jt':4\n",
    "})\n",
    "BesarKredit_map = ({\n",
    "    '782000':1,\n",
    "    '520000':2,\n",
    "    '937500':3,\n",
    "    '763900':4\n",
    "})\n",
    "LamaPinjam_map = ({\n",
    "    '12':1,\n",
    "    '24':2,\n",
    "    '18':3,\n",
    "    '6' :4\n",
    "})"
   ]
  },
  {
   "cell_type": "code",
   "execution_count": 7,
   "id": "12f35bf5",
   "metadata": {},
   "outputs": [
    {
     "data": {
      "text/plain": [
       "0    1\n",
       "1    2\n",
       "2    2\n",
       "3    1\n",
       "4    3\n",
       "5    2\n",
       "6    3\n",
       "7    1\n",
       "8    4\n",
       "9    4\n",
       "Name: Penghasilan, dtype: int64"
      ]
     },
     "execution_count": 7,
     "metadata": {},
     "output_type": "execute_result"
    }
   ],
   "source": [
    "Databarukali_map = [Penghasilan_map,StatusRumah_map,BesarPinjam_map,BesarKredit_map,LamaPinjam_map]\n",
    "data['Penghasilan']=data['Penghasilan'].map(Penghasilan_map)\n",
    "data['Penghasilan']"
   ]
  },
  {
   "cell_type": "code",
   "execution_count": 8,
   "id": "6076f07b",
   "metadata": {},
   "outputs": [
    {
     "data": {
      "text/plain": [
       "0    1\n",
       "1    2\n",
       "2    2\n",
       "3    1\n",
       "4    1\n",
       "5    2\n",
       "6    1\n",
       "7    2\n",
       "8    1\n",
       "9    2\n",
       "Name: Status Rumah, dtype: int64"
      ]
     },
     "execution_count": 8,
     "metadata": {},
     "output_type": "execute_result"
    }
   ],
   "source": [
    "Databarukali_map = [Penghasilan_map,StatusRumah_map,BesarPinjam_map,BesarKredit_map,LamaPinjam_map]\n",
    "data['Status Rumah']=data['Status Rumah'].map(StatusRumah_map)\n",
    "data['Status Rumah']"
   ]
  },
  {
   "cell_type": "code",
   "execution_count": 9,
   "id": "a7f97893",
   "metadata": {},
   "outputs": [
    {
     "data": {
      "text/plain": [
       "0    1\n",
       "1    2\n",
       "2    3\n",
       "3    1\n",
       "4    2\n",
       "5    4\n",
       "6    1\n",
       "7    2\n",
       "8    3\n",
       "9    4\n",
       "Name: Besar Pinjam, dtype: int64"
      ]
     },
     "execution_count": 9,
     "metadata": {},
     "output_type": "execute_result"
    }
   ],
   "source": [
    "Databarukali_map = [Penghasilan_map,StatusRumah_map,BesarPinjam_map,BesarKredit_map,LamaPinjam_map]\n",
    "data['Besar Pinjam']=data['Besar Pinjam'].map(BesarPinjam_map)\n",
    "data ['Besar Pinjam']"
   ]
  },
  {
   "cell_type": "code",
   "execution_count": 10,
   "id": "316be11c",
   "metadata": {},
   "outputs": [
    {
     "data": {
      "text/html": [
       "<div>\n",
       "<style scoped>\n",
       "    .dataframe tbody tr th:only-of-type {\n",
       "        vertical-align: middle;\n",
       "    }\n",
       "\n",
       "    .dataframe tbody tr th {\n",
       "        vertical-align: top;\n",
       "    }\n",
       "\n",
       "    .dataframe thead th {\n",
       "        text-align: right;\n",
       "    }\n",
       "</style>\n",
       "<table border=\"1\" class=\"dataframe\">\n",
       "  <thead>\n",
       "    <tr style=\"text-align: right;\">\n",
       "      <th></th>\n",
       "      <th>Penghasilan</th>\n",
       "      <th>Status Rumah</th>\n",
       "      <th>Besar Pinjam</th>\n",
       "      <th>Besar Kredit</th>\n",
       "      <th>Lama Pinjam,,</th>\n",
       "    </tr>\n",
       "  </thead>\n",
       "  <tbody>\n",
       "    <tr>\n",
       "      <th>0</th>\n",
       "      <td>1</td>\n",
       "      <td>1</td>\n",
       "      <td>1</td>\n",
       "      <td>782000</td>\n",
       "      <td>12</td>\n",
       "    </tr>\n",
       "    <tr>\n",
       "      <th>1</th>\n",
       "      <td>2</td>\n",
       "      <td>2</td>\n",
       "      <td>2</td>\n",
       "      <td>520000</td>\n",
       "      <td>12,</td>\n",
       "    </tr>\n",
       "    <tr>\n",
       "      <th>2</th>\n",
       "      <td>2</td>\n",
       "      <td>2</td>\n",
       "      <td>3</td>\n",
       "      <td>937500</td>\n",
       "      <td>24,</td>\n",
       "    </tr>\n",
       "    <tr>\n",
       "      <th>3</th>\n",
       "      <td>1</td>\n",
       "      <td>1</td>\n",
       "      <td>1</td>\n",
       "      <td>782000</td>\n",
       "      <td>12</td>\n",
       "    </tr>\n",
       "    <tr>\n",
       "      <th>4</th>\n",
       "      <td>3</td>\n",
       "      <td>1</td>\n",
       "      <td>2</td>\n",
       "      <td>520000</td>\n",
       "      <td>12,</td>\n",
       "    </tr>\n",
       "    <tr>\n",
       "      <th>5</th>\n",
       "      <td>2</td>\n",
       "      <td>2</td>\n",
       "      <td>4</td>\n",
       "      <td>763900</td>\n",
       "      <td>18,</td>\n",
       "    </tr>\n",
       "    <tr>\n",
       "      <th>6</th>\n",
       "      <td>3</td>\n",
       "      <td>1</td>\n",
       "      <td>1</td>\n",
       "      <td>782000</td>\n",
       "      <td>6</td>\n",
       "    </tr>\n",
       "    <tr>\n",
       "      <th>7</th>\n",
       "      <td>1</td>\n",
       "      <td>2</td>\n",
       "      <td>2</td>\n",
       "      <td>937500</td>\n",
       "      <td>6,</td>\n",
       "    </tr>\n",
       "    <tr>\n",
       "      <th>8</th>\n",
       "      <td>4</td>\n",
       "      <td>1</td>\n",
       "      <td>3</td>\n",
       "      <td>937500</td>\n",
       "      <td>24,,</td>\n",
       "    </tr>\n",
       "    <tr>\n",
       "      <th>9</th>\n",
       "      <td>4</td>\n",
       "      <td>2</td>\n",
       "      <td>4</td>\n",
       "      <td>763900</td>\n",
       "      <td>18,,</td>\n",
       "    </tr>\n",
       "  </tbody>\n",
       "</table>\n",
       "</div>"
      ],
      "text/plain": [
       "   Penghasilan  Status Rumah  Besar Pinjam  Besar Kredit Lama Pinjam,,\n",
       "0            1             1             1        782000            12\n",
       "1            2             2             2        520000           12,\n",
       "2            2             2             3        937500           24,\n",
       "3            1             1             1        782000            12\n",
       "4            3             1             2        520000           12,\n",
       "5            2             2             4        763900           18,\n",
       "6            3             1             1        782000             6\n",
       "7            1             2             2        937500            6,\n",
       "8            4             1             3        937500          24,,\n",
       "9            4             2             4        763900          18,,"
      ]
     },
     "execution_count": 10,
     "metadata": {},
     "output_type": "execute_result"
    }
   ],
   "source": [
    "data"
   ]
  },
  {
   "cell_type": "code",
   "execution_count": 13,
   "id": "b1e11f8a",
   "metadata": {},
   "outputs": [
    {
     "data": {
      "text/plain": [
       "array(['12', '12,', '24,', '12', '12,', '18,', '6', '6,', '24,,', '18,,'],\n",
       "      dtype=object)"
      ]
     },
     "execution_count": 13,
     "metadata": {},
     "output_type": "execute_result"
    }
   ],
   "source": [
    "x = np.asarray(data.drop(['Lama Pinjam,,'],axis=1))\n",
    "y = np.asarray(data['Lama Pinjam,,'])\n",
    "y"
   ]
  },
  {
   "cell_type": "code",
   "execution_count": 14,
   "id": "0368ed05",
   "metadata": {},
   "outputs": [
    {
     "data": {
      "text/plain": [
       "DecisionTreeClassifier()"
      ]
     },
     "execution_count": 14,
     "metadata": {},
     "output_type": "execute_result"
    }
   ],
   "source": [
    "from sklearn.tree import DecisionTreeClassifier\n",
    "model = DecisionTreeClassifier()\n",
    "model.fit(x,y)"
   ]
  },
  {
   "cell_type": "code",
   "execution_count": 15,
   "id": "4dbaa55b",
   "metadata": {},
   "outputs": [
    {
     "data": {
      "text/plain": [
       "array(['12,'], dtype=object)"
      ]
     },
     "execution_count": 15,
     "metadata": {},
     "output_type": "execute_result"
    }
   ],
   "source": [
    "x_baru = np.array([[1,2,1,78200]])\n",
    "y_baru = model.predict(x_baru)\n",
    "y_baru"
   ]
  },
  {
   "cell_type": "code",
   "execution_count": 16,
   "id": "f972ca27",
   "metadata": {},
   "outputs": [
    {
     "data": {
      "image/png": "[encoded data removed]",
      "text/plain": [
       "<Figure size 1200x1000 with 1 Axes>"
      ]
     },
     "metadata": {},
     "output_type": "display_data"
    }
   ],
   "source": [
    "from sklearn.tree import plot_tree\n",
    "plt.subplots(figsize=(12,10))\n",
    "plot_tree(model, fontsize = 10)\n",
    "plt.show()"
   ]
  },
  {
   "cell_type": "code",
   "execution_count": null,
   "id": "deea88f7",
   "metadata": {},
   "outputs": [],
   "source": []
  }
 ],
 "metadata": {
  "kernelspec": {
   "display_name": "Python 3 (ipykernel)",
   "language": "python",
   "name": "python3"
  },
  "language_info": {
   "codemirror_mode": {
    "name": "ipython",
    "version": 3
   },
   "file_extension": ".py",
   "mimetype": "text/x-python",
   "name": "python",
   "nbconvert_exporter": "python",
   "pygments_lexer": "ipython3",
   "version": "3.11.5"
  }
 },
 "nbformat": 4,
 "nbformat_minor": 5
}
